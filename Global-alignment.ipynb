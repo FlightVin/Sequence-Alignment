{
 "cells": [
  {
   "cell_type": "code",
   "execution_count": 12,
   "id": "3fe67831-2c7b-46a6-851d-9f2ea44fc568",
   "metadata": {
    "tags": []
   },
   "outputs": [],
   "source": [
    "from pprint import pprint\n",
    "\n",
    "def global_alignment(seq1, seq2, scoring_fn, gap_penalty):    \n",
    "    m = len(seq1)\n",
    "    n = len(seq2)\n",
    "    \n",
    "    # Initialzing dp array\n",
    "    dp = []\n",
    "    for i in range(m+1):\n",
    "        cur_list = []\n",
    "        for j in range(n+1):\n",
    "            cur_list.append(0)\n",
    "        dp.append(cur_list)\n",
    "        \n",
    "    for i in range(m+1):\n",
    "        for j in range(n+1):\n",
    "            if (i == 0):\n",
    "                dp[i][j] = -j*gap_penalty\n",
    "            elif (j == 0):\n",
    "                dp[i][j] = -i*gap_penalty\n",
    "            else:\n",
    "                dp[i][j] = max(dp[i-1][j-1] + scoring_fn(seq1[i-1], seq2[j-1]),max(dp[i-1][j] - gap_penalty, dp[i][j-1] - gap_penalty))\n",
    "                \n",
    "    pprint(dp)\n",
    "            "
   ]
  },
  {
   "cell_type": "code",
   "execution_count": 7,
   "id": "98a44a9f-01af-4ba1-9234-b4b9c234d33e",
   "metadata": {
    "tags": []
   },
   "outputs": [],
   "source": [
    "# Taking parameters\n",
    "seq1 = \"GGCTGCAACTAGCTC\"\n",
    "seq2 = \"GGGTAAGCTTGC\"\n",
    "gap_penalty = 3"
   ]
  },
  {
   "cell_type": "code",
   "execution_count": 8,
   "id": "4c983ece-c9d5-4b03-9faf-4306efe9e379",
   "metadata": {
    "tags": []
   },
   "outputs": [],
   "source": [
    "# creating scoring function\n",
    "def scoring_fn(sy1, sy2):\n",
    "    if sy1 == sy2:\n",
    "        return 4\n",
    "    if (sy1 == 'C' and sy2 == 'T') or (sy2 == 'C' and sy1 == 'T') or (sy1 == 'G' and sy2 == 'A') or (sy2 == 'G' and sy1 == 'A'):\n",
    "        return 1\n",
    "    return -1"
   ]
  },
  {
   "cell_type": "code",
   "execution_count": 13,
   "id": "98e8386f-1ab5-45d7-a089-2d17ee5ac44b",
   "metadata": {
    "tags": []
   },
   "outputs": [
    {
     "name": "stdout",
     "output_type": "stream",
     "text": [
      "[[0, -3, -6, -9, -12, -15, -18, -21, -24, -27, -30, -33, -36],\n",
      " [-3, 4, 1, -2, -5, -8, -11, -14, -17, -20, -23, -26, -29],\n",
      " [-6, 1, 8, 5, 2, -1, -4, -7, -10, -13, -16, -19, -22],\n",
      " [-9, -2, 5, 7, 6, 3, 0, -3, -3, -6, -9, -12, -15],\n",
      " [-12, -5, 2, 4, 11, 8, 5, 2, -1, 1, -2, -5, -8],\n",
      " [-15, -8, -1, 6, 8, 12, 9, 9, 6, 3, 0, 2, -1],\n",
      " [-18, -11, -4, 3, 7, 9, 11, 8, 13, 10, 7, 4, 6],\n",
      " [-21, -14, -7, 0, 4, 11, 13, 12, 10, 12, 9, 8, 5],\n",
      " [-24, -17, -10, -3, 1, 8, 15, 14, 11, 9, 11, 10, 7],\n",
      " [-27, -20, -13, -6, -2, 5, 12, 14, 18, 15, 12, 10, 14],\n",
      " [-30, -23, -16, -9, -2, 2, 9, 11, 15, 22, 19, 16, 13],\n",
      " [-33, -26, -19, -12, -5, 2, 6, 10, 12, 19, 21, 20, 17],\n",
      " [-36, -29, -22, -15, -8, -1, 3, 10, 9, 16, 18, 25, 22],\n",
      " [-39, -32, -25, -18, -11, -4, 0, 7, 14, 13, 17, 22, 29],\n",
      " [-42, -35, -28, -21, -14, -7, -3, 4, 11, 18, 17, 19, 26],\n",
      " [-45, -38, -31, -24, -17, -10, -6, 1, 8, 15, 19, 16, 23]]\n"
     ]
    }
   ],
   "source": [
    "global_alignment(seq1, seq2, scoring_fn, gap_penalty)"
   ]
  },
  {
   "cell_type": "code",
   "execution_count": null,
   "id": "9dbc60be-e133-4916-bb00-3513e6143e51",
   "metadata": {},
   "outputs": [],
   "source": []
  }
 ],
 "metadata": {
  "kernelspec": {
   "display_name": "Python 3 (ipykernel)",
   "language": "python",
   "name": "python3"
  },
  "language_info": {
   "codemirror_mode": {
    "name": "ipython",
    "version": 3
   },
   "file_extension": ".py",
   "mimetype": "text/x-python",
   "name": "python",
   "nbconvert_exporter": "python",
   "pygments_lexer": "ipython3",
   "version": "3.8.10"
  }
 },
 "nbformat": 4,
 "nbformat_minor": 5
}
