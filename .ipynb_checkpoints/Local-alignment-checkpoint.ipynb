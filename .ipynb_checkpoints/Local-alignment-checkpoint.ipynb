{
 "cells": [
  {
   "cell_type": "code",
   "execution_count": 6,
   "id": "12754c4a-37a0-4dd7-8f4e-16821eae955b",
   "metadata": {
    "tags": []
   },
   "outputs": [],
   "source": [
    "from pprint import pprint\n",
    "\n",
    "def local_alignment(seq1, seq2, scoring_fn, gap_penalty):    \n",
    "    m = len(seq1)\n",
    "    n = len(seq2)\n",
    "    \n",
    "    # Initialzing dp array\n",
    "    dp = []\n",
    "    for i in range(m+1):\n",
    "        cur_list = []\n",
    "        for j in range(n+1):\n",
    "            cur_list.append(0)\n",
    "        dp.append(cur_list)\n",
    "        \n",
    "    for i in range(m+1):\n",
    "        for j in range(n+1):\n",
    "            if (i == 0):\n",
    "                dp[i][j] = 0\n",
    "            elif (j == 0):\n",
    "                dp[i][j] = 0\n",
    "            else:\n",
    "                dp[i][j] = max(0, max(dp[i-1][j-1] + scoring_fn(seq1[i-1], seq2[j-1]),max(dp[i-1][j] - gap_penalty, dp[i][j-1] - gap_penalty)))\n",
    "                \n",
    "    pprint(dp)"
   ]
  },
  {
   "cell_type": "code",
   "execution_count": 2,
   "id": "8e4b34fa-4e9c-4f15-a3dd-4bbab61b95a3",
   "metadata": {
    "tags": []
   },
   "outputs": [],
   "source": [
    "# Taking parameters\n",
    "seq1 = \"GGCTGCAACTAGCTC\"\n",
    "seq2 = \"GGGTAAGCTTGC\"\n",
    "gap_penalty = 3"
   ]
  },
  {
   "cell_type": "code",
   "execution_count": 3,
   "id": "fc319b6f-94d3-47dc-b9aa-8dcc8dfad8f9",
   "metadata": {
    "tags": []
   },
   "outputs": [],
   "source": [
    "# creating scoring function\n",
    "def scoring_fn(sy1, sy2):\n",
    "    if sy1 == sy2:\n",
    "        return 4\n",
    "    if (sy1 == 'C' and sy2 == 'T') or (sy2 == 'C' and sy1 == 'T') or (sy1 == 'G' and sy2 == 'A') or (sy2 == 'G' and sy1 == 'A'):\n",
    "        return 1\n",
    "    return -1"
   ]
  },
  {
   "cell_type": "code",
   "execution_count": 7,
   "id": "5a269d60-e103-492b-86e9-13f82431cc4e",
   "metadata": {
    "tags": []
   },
   "outputs": [
    {
     "name": "stdout",
     "output_type": "stream",
     "text": [
      "[[0, 0, 0, 0, 0, 0, 0, 0, 0, 0, 0, 0, 0],\n",
      " [0, 4, 4, 4, 1, 1, 1, 4, 1, 0, 0, 4, 1],\n",
      " [0, 4, 8, 8, 5, 2, 2, 5, 3, 0, 0, 4, 3],\n",
      " [0, 1, 5, 7, 9, 6, 3, 2, 9, 6, 3, 1, 8],\n",
      " [0, 0, 2, 4, 11, 8, 5, 2, 6, 13, 10, 7, 5],\n",
      " [0, 4, 4, 6, 8, 12, 9, 9, 6, 10, 12, 14, 11],\n",
      " [0, 1, 3, 3, 7, 9, 11, 8, 13, 10, 11, 11, 18],\n",
      " [0, 1, 2, 4, 4, 11, 13, 12, 10, 12, 9, 12, 15],\n",
      " [0, 1, 2, 3, 3, 8, 15, 14, 11, 9, 11, 10, 12],\n",
      " [0, 0, 0, 1, 4, 5, 12, 14, 18, 15, 12, 10, 14],\n",
      " [0, 0, 0, 0, 5, 3, 9, 11, 15, 22, 19, 16, 13],\n",
      " [0, 1, 1, 1, 2, 9, 7, 10, 12, 19, 21, 20, 17],\n",
      " [0, 4, 5, 5, 2, 6, 10, 11, 9, 16, 18, 25, 22],\n",
      " [0, 1, 3, 4, 6, 3, 7, 9, 15, 13, 17, 22, 29],\n",
      " [0, 0, 0, 2, 8, 5, 4, 6, 12, 19, 17, 19, 26],\n",
      " [0, 0, 0, 0, 5, 7, 4, 3, 10, 16, 20, 17, 23]]\n"
     ]
    }
   ],
   "source": [
    "local_alignment(seq1, seq2, scoring_fn, gap_penalty)"
   ]
  },
  {
   "cell_type": "code",
   "execution_count": null,
   "id": "4ea2299c-6c97-4bcc-aab7-15db1acd54de",
   "metadata": {},
   "outputs": [],
   "source": []
  }
 ],
 "metadata": {
  "kernelspec": {
   "display_name": "Python 3 (ipykernel)",
   "language": "python",
   "name": "python3"
  },
  "language_info": {
   "codemirror_mode": {
    "name": "ipython",
    "version": 3
   },
   "file_extension": ".py",
   "mimetype": "text/x-python",
   "name": "python",
   "nbconvert_exporter": "python",
   "pygments_lexer": "ipython3",
   "version": "3.8.10"
  }
 },
 "nbformat": 4,
 "nbformat_minor": 5
}
